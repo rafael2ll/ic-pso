{
 "cells": [
  {
   "cell_type": "markdown",
   "metadata": {
    "slideshow": {
     "slide_type": "slide"
    }
   },
   "source": [
    "# *Aplicação de PSO* :\n",
    "#                   *Caixeiro Viajante*"
   ]
  },
  {
   "cell_type": "markdown",
   "metadata": {
    "slideshow": {
     "slide_type": "slide"
    }
   },
   "source": [
    "## *Overview*"
   ]
  },
  {
   "cell_type": "markdown",
   "metadata": {
    "slideshow": {
     "slide_type": "subslide"
    }
   },
   "source": [
    "### PSO Discreto"
   ]
  },
  {
   "cell_type": "markdown",
   "metadata": {
    "slideshow": {
     "slide_type": "subslide"
    }
   },
   "source": [
    "* *Posição da Partícula:* Uma rota válida\n",
    "* *Velocidade:* N par de trocas simples entre elementos da rota"
   ]
  },
  {
   "cell_type": "markdown",
   "metadata": {
    "slideshow": {
     "slide_type": "slide"
    }
   },
   "source": [
    "### Partícula"
   ]
  },
  {
   "cell_type": "code",
   "execution_count": null,
   "metadata": {
    "slideshow": {
     "slide_type": "subslide"
    }
   },
   "outputs": [],
   "source": [
    "import numpy as np\n",
    "class DParticle:\n",
    "    def __init__(self, path: np.array):\n",
    "        self.position = path\n",
    "        self.combination_count = np.random.randint(len(path) * (len(path) - 1)) + 1\n",
    "        self.velocity = np.random.randint(len(path), size=(self.combination_count, 2))\n",
    "        self.best_position = np.copy(self.position)\n",
    "        self.best_path_len = np.inf\n",
    "\n",
    "    def __repr__(self):\n",
    "        return self.__str__()\n"
   ]
  },
  {
   "cell_type": "markdown",
   "metadata": {
    "slideshow": {
     "slide_type": "slide"
    }
   },
   "source": [
    "### Fit"
   ]
  },
  {
   "cell_type": "code",
   "execution_count": null,
   "metadata": {
    "slideshow": {
     "slide_type": "subslide"
    }
   },
   "outputs": [],
   "source": [
    "def fit(path, problem):\n",
    "    cyclic_path = np.hstack((path, np.array([path[0]])))\n",
    "    return sum(problem.get_weight(a, b) for a, b in zip(cyclic_path[0:], cyclic_path[1:]))"
   ]
  },
  {
   "cell_type": "markdown",
   "metadata": {
    "slideshow": {
     "slide_type": "slide"
    }
   },
   "source": [
    "### Atualização"
   ]
  },
  {
   "cell_type": "code",
   "execution_count": null,
   "metadata": {
    "slideshow": {
     "slide_type": "subslide"
    }
   },
   "outputs": [],
   "source": [
    "def discrete_velocity(particle: DParticle):\n",
    "    return random.choices(particle.velocity, k=np.random.randint(len(particle.position)))"
   ]
  },
  {
   "cell_type": "markdown",
   "metadata": {
    "slideshow": {
     "slide_type": "slide"
    }
   },
   "source": [
    "### Algoritmo PSO Discreto"
   ]
  },
  {
   "cell_type": "code",
   "execution_count": null,
   "metadata": {
    "slideshow": {
     "slide_type": "subslide"
    }
   },
   "outputs": [],
   "source": [
    "def submit(self, iterations=1000):\n",
    "    for i in range(iterations):\n",
    "        for particle in self.particles:\n",
    "            velocity = discrete_velocity(particle)\n",
    "            adjust_discrete_position(particle, velocity)\n",
    "            distance = fit(particle.position, self.problem)\n",
    "\n",
    "            logger.debug(f\"Distance: {distance}\\t Path:{particle.position}\\tV:{velocity}\")\n",
    "\n",
    "            # Is it the best particle distance so far?\n",
    "            if distance < particle.best_path_len:\n",
    "                particle.best_position = np.copy(particle.position)\n",
    "                particle.best_path_len = distance\n",
    "                # May be the best global distance as well?\n",
    "                if distance < self.best_path:\n",
    "                    self.best_path = distance\n",
    "                    self.best_path_pos = np.copy(particle.position)\n",
    "                    logger.info(f\"B.D: {self.best_path}\\tB.P:{self.best_path_pos}\")"
   ]
  },
  {
   "cell_type": "code",
   "execution_count": null,
   "metadata": {
    "slideshow": {
     "slide_type": "subslide"
    }
   },
   "outputs": [],
   "source": [
    "def adjust_discrete_position(particle: DParticle, velocity: np.array):\n",
    "    for exchange in velocity:\n",
    "        tmp = np.copy(particle.position[exchange[0]])\n",
    "        particle.position[exchange[0]] = particle.position[exchange[1]]\n",
    "        particle.position[exchange[1]] = tmp"
   ]
  },
  {
   "cell_type": "markdown",
   "metadata": {
    "slideshow": {
     "slide_type": "slide"
    }
   },
   "source": [
    "## Resultados"
   ]
  },
  {
   "cell_type": "code",
   "execution_count": 6,
   "metadata": {
    "slideshow": {
     "slide_type": "subslide"
    }
   },
   "outputs": [],
   "source": [
    "import pandas as pd\n",
    "df = pd.read_csv(\"benchmark.csv\")"
   ]
  },
  {
   "cell_type": "markdown",
   "metadata": {
    "slideshow": {
     "slide_type": "fragment"
    }
   },
   "source": [
    "|    | algoritmo       |   problem | mean   |   min |\n",
    "|---:|:----------------|----------:|:-------|------:|\n",
    "|  0 | Ideal           |        24 | -      |  1272 |\n",
    "|  1 | AG Sugerido     |        24 | 1331   |  1272 |\n",
    "|  2 | AG Desenvolvido |        24 | -      |  1300 |\n",
    "|  3 | PSO Continuo    |        24 | 2148.3 |  2021 |\n",
    "|  4 | PSO Discreto    |        24 | 2125.6 |  1813 |\n",
    "|  5 | Ideal           |        48 | -      |  5046 |\n",
    "|  6 | AG Sugerido     |        48 | 5533   |  5080 |\n",
    "|  7 | AG Desenvolvido |        48 | -      |  6893 |\n",
    "|  8 | PSO Continuo    |        48 | 15801  | 14630 |\n",
    "|  9 | PSO Discreto    |        48 | 16074  | 15422 |"
   ]
  },
  {
   "cell_type": "markdown",
   "metadata": {
    "slideshow": {
     "slide_type": "slide"
    }
   },
   "source": [
    "## Referências"
   ]
  },
  {
   "cell_type": "markdown",
   "metadata": {
    "slideshow": {
     "slide_type": "subslide"
    }
   },
   "source": [
    "*[1]* Codigo em Python de um exemplo com PSO, http://paginapessoal.utfpr.edu.br/cesarbenitez/algoritmos-evolutivos/Exemplo_PSO_Rastrigin_python.txt.txt/view"
   ]
  },
  {
   "cell_type": "markdown",
   "metadata": {
    "slideshow": {
     "slide_type": "subslide"
    }
   },
   "source": [
    "*[2]* Inteligência de Enxame: PSO, http://www.eng.uerj.br/~nadia/pso.pdf"
   ]
  }
 ],
 "metadata": {
  "celltoolbar": "Slideshow",
  "kernelspec": {
   "display_name": "Python 3",
   "language": "python",
   "name": "python3"
  },
  "language_info": {
   "codemirror_mode": {
    "name": "ipython",
    "version": 3
   },
   "file_extension": ".py",
   "mimetype": "text/x-python",
   "name": "python",
   "nbconvert_exporter": "python",
   "pygments_lexer": "ipython3",
   "version": "3.8.5"
  }
 },
 "nbformat": 4,
 "nbformat_minor": 4
}

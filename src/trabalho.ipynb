{
 "cells": [
  {
   "cell_type": "code",
   "execution_count": 8,
   "metadata": {},
   "outputs": [],
   "source": [
    "import logging\n",
    "\n",
    "import pandas as pd\n",
    "import tqdm\n",
    "import tsplib95\n",
    "from joblib import Parallel, delayed\n",
    "\n",
    "from ag import GA\n",
    "from domain.crossovers import VRCrossOver, PMXCrossOver, APCrossOver, CXCrossOver, OX1CrossOver, OX2CrossOver, \\\n",
    "    POSCrossOver, ERCrossOver\n",
    "from domain.mutations import DM, EM, ISM, SIM, SM, IVM\n",
    "from domain.path.euclidean_extractor import EuclideanPathParentExtractor\n",
    "from domain.path.path_population import PathPopulation"
   ]
  },
  {
   "cell_type": "code",
   "execution_count": 9,
   "metadata": {
    "collapsed": false,
    "jupyter": {
     "outputs_hidden": false
    },
    "pycharm": {
     "name": "#%%\n"
    }
   },
   "outputs": [],
   "source": [
    "def run_al(cross_over, mutation, problem):\n",
    "    try:\n",
    "        logging.warning(f\" Running: {cross_over.__class__.__name__} x {mutation.__class__.__name__}\")\n",
    "        ag = GA()\n",
    "        ag.set_population_class(PathPopulation())\n",
    "        ag.set_parent_extractor_class(EuclideanPathParentExtractor())\n",
    "        ag.set_crossover_class(cross_over)\n",
    "        ag.set_mutation_class(mutation)\n",
    "        distance, path = ag.perform(problem, 200)\n",
    "        print(f\" {cross_over.__class__.__name__} x {mutation.__class__.__name__}: Best Path[{distance}]: {path}\")\n",
    "        return cross_over.__class__.__name__, mutation.__class__.__name__,distance, path\n",
    "    except Exception as e:\n",
    "        logging.warning(f\" Couldn't do the comb: {cross_over} x {mutation} : {e}\")\n",
    "        return cross_over.__class__.__name__, mutation.__class__.__name__,None, None"
   ]
  },
  {
   "cell_type": "code",
   "execution_count": 10,
   "metadata": {
    "collapsed": false,
    "jupyter": {
     "outputs_hidden": false
    },
    "pycharm": {
     "name": "#%%\n"
    }
   },
   "outputs": [],
   "source": [
    "cross_overs = [APCrossOver(), CXCrossOver(), ERCrossOver(), OX1CrossOver(), OX2CrossOver(), PMXCrossOver(), POSCrossOver(), VRCrossOver()]"
   ]
  },
  {
   "cell_type": "code",
   "execution_count": 11,
   "metadata": {
    "collapsed": false,
    "jupyter": {
     "outputs_hidden": false
    },
    "pycharm": {
     "name": "#%%\n"
    }
   },
   "outputs": [],
   "source": [
    "mutations = [DM(), EM(), ISM(), IVM(), SIM(), SM()]"
   ]
  },
  {
   "cell_type": "code",
   "execution_count": 12,
   "metadata": {
    "collapsed": false,
    "jupyter": {
     "outputs_hidden": false
    },
    "pycharm": {
     "name": "#%%\n"
    }
   },
   "outputs": [
    {
     "name": "stderr",
     "output_type": "stream",
     "text": [
      "\n",
      "  0%|          | 0/48 [00:00<?, ?it/s]\u001B[A"
     ]
    }
   ],
   "source": [
    "combinations = tqdm.tqdm([(co, mt) for mt in mutations for co in cross_overs])"
   ]
  },
  {
   "cell_type": "code",
   "execution_count": 13,
   "metadata": {
    "collapsed": false,
    "jupyter": {
     "outputs_hidden": false
    },
    "pycharm": {
     "name": "#%%\n"
    }
   },
   "outputs": [],
   "source": [
    "problem = tsplib95.load('../data/gr24.tsp')\n",
    "best_solution = tsplib95.load(\"../data/gr24.opt.tour\")"
   ]
  },
  {
   "cell_type": "code",
   "execution_count": 14,
   "metadata": {
    "collapsed": false,
    "jupyter": {
     "outputs_hidden": false
    },
    "pycharm": {
     "name": "#%%\n"
    }
   },
   "outputs": [
    {
     "name": "stderr",
     "output_type": "stream",
     "text": [
      "\n",
      " 25%|██▌       | 12/48 [01:28<04:24,  7.36s/it]\u001B[A\n",
      " 38%|███▊      | 18/48 [03:06<05:02, 10.07s/it]\u001B[A\n",
      " 50%|█████     | 24/48 [04:42<04:43, 11.83s/it]\u001B[A\n",
      " 62%|██████▎   | 30/48 [06:32<04:07, 13.78s/it]\u001B[A\n",
      " 75%|███████▌  | 36/48 [07:57<02:46, 13.90s/it]\u001B[A\n",
      " 88%|████████▊ | 42/48 [09:21<01:23, 13.93s/it]\u001B[A\n",
      "100%|██████████| 48/48 [12:00<00:00, 15.02s/it]\u001B[A\n"
     ]
    }
   ],
   "source": [
    "results = Parallel(n_jobs=len(mutations))(delayed(run_al)(comb[0], comb[1], problem) for comb in combinations)"
   ]
  },
  {
   "cell_type": "code",
   "execution_count": 15,
   "metadata": {
    "collapsed": false,
    "jupyter": {
     "outputs_hidden": false
    },
    "pycharm": {
     "name": "#%%\n"
    }
   },
   "outputs": [],
   "source": [
    "collected = []\n",
    "for (co, mt, dist, path) in results:\n",
    "    value = list(filter(lambda a: a[\"mutation\"] == mt, collected))\n",
    "    if len(value) == 0:\n",
    "        value = {\"mutation\": mt}\n",
    "        collected.append(value)\n",
    "    else:\n",
    "        value = value[0]\n",
    "    value[co] = dist\n"
   ]
  },
  {
   "cell_type": "code",
   "execution_count": 16,
   "metadata": {
    "collapsed": false,
    "jupyter": {
     "outputs_hidden": false
    },
    "pycharm": {
     "name": "#%%\n"
    }
   },
   "outputs": [],
   "source": [
    "df = pd.DataFrame(collected)\n",
    "df.to_csv(\"problem24.csv\")"
   ]
  },
  {
   "cell_type": "code",
   "execution_count": 17,
   "outputs": [],
   "source": [
    "problem = tsplib95.load('../data/gr48.tsp')\n",
    "best_solution = tsplib95.load(\"../data/gr48.opt.tour\")"
   ],
   "metadata": {
    "collapsed": false,
    "pycharm": {
     "name": "#%%\n"
    }
   }
  },
  {
   "cell_type": "code",
   "execution_count": 18,
   "outputs": [],
   "source": [
    "results = Parallel(n_jobs=len(mutations))(delayed(run_al)(comb[0], comb[1], problem) for comb in combinations)"
   ],
   "metadata": {
    "collapsed": false,
    "pycharm": {
     "name": "#%%\n"
    }
   }
  },
  {
   "cell_type": "code",
   "execution_count": 19,
   "outputs": [],
   "source": [
    "collected = []\n",
    "for (co, mt, dist, path) in results:\n",
    "    value = list(filter(lambda a: a[\"mutation\"] == mt, collected))\n",
    "    if len(value) == 0:\n",
    "        value = {\"mutation\": mt}\n",
    "        collected.append(value)\n",
    "    else:\n",
    "        value = value[0]\n",
    "    value[co] = dist\n"
   ],
   "metadata": {
    "collapsed": false,
    "pycharm": {
     "name": "#%%\n"
    }
   }
  },
  {
   "cell_type": "code",
   "execution_count": 20,
   "outputs": [],
   "source": [
    "df = pd.DataFrame(collected)\n",
    "df.to_csv(\"problem48.csv\")"
   ],
   "metadata": {
    "collapsed": false,
    "pycharm": {
     "name": "#%%\n"
    }
   }
  }
 ],
 "metadata": {
  "kernelspec": {
   "display_name": "Python 3",
   "language": "python",
   "name": "python3"
  },
  "language_info": {
   "codemirror_mode": {
    "name": "ipython",
    "version": 3
   },
   "file_extension": ".py",
   "mimetype": "text/x-python",
   "name": "python",
   "nbconvert_exporter": "python",
   "pygments_lexer": "ipython3",
   "version": "3.8.3"
  }
 },
 "nbformat": 4,
 "nbformat_minor": 4
}